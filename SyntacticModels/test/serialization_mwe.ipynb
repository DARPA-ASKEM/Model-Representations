{
 "cells": [
  {
   "cell_type": "code",
   "execution_count": 1,
   "metadata": {},
   "outputs": [],
   "source": [
    "using MLStyle\n",
    "using JSON3"
   ]
  },
  {
   "attachments": {},
   "cell_type": "markdown",
   "metadata": {},
   "source": [
    "Our Formula type is a recursive ADT definition the terminal types are Values and Variables,\n",
    "The mathematical operator goes in the type of the struct. This is unlike Julia Expr types,\n",
    "where the operator is a symbol in the first argument position of the expression tree."
   ]
  },
  {
   "cell_type": "code",
   "execution_count": 2,
   "metadata": {},
   "outputs": [
    {
     "data": {
      "text/plain": [
       "Times(Plus(Var(:x), Val(3)), Plus(Var(:y), Val(5)))"
      ]
     },
     "metadata": {},
     "output_type": "display_data"
    }
   ],
   "source": [
    "@data Formula begin\n",
    "  Val(x::Number)\n",
    "  Var(s::Symbol)\n",
    "  Plus(a::Formula, b::Formula)\n",
    "  Times(a::Formula, b::Formula)\n",
    "end\n",
    "\n",
    "f = Times(Plus(Var(:x), Val(3)), Plus(Var(:y), Val(5)))"
   ]
  },
  {
   "attachments": {},
   "cell_type": "markdown",
   "metadata": {},
   "source": [
    "Note: there is no type information in the output,\n",
    "therefore we won't be able to read it back in"
   ]
  },
  {
   "cell_type": "code",
   "execution_count": 3,
   "metadata": {},
   "outputs": [
    {
     "name": "stdout",
     "output_type": "stream",
     "text": [
      "{\"a\":{\"a\":{\"s\":\"x\"},\"b\":{\"x\":3}},\"b\":{\"a\":{\"s\":\"y\"},\"b\":{\"x\":5}}}\n"
     ]
    }
   ],
   "source": [
    "s = JSON3.write(f)\n",
    "println(s)"
   ]
  },
  {
   "attachments": {},
   "cell_type": "markdown",
   "metadata": {},
   "source": [
    "we could convert the formula to a dict with structural recursion\n",
    "and manually add in the type information on every step of the recursion"
   ]
  },
  {
   "cell_type": "code",
   "execution_count": 4,
   "metadata": {},
   "outputs": [
    {
     "data": {
      "text/plain": [
       "dict (generic function with 1 method)"
      ]
     },
     "metadata": {},
     "output_type": "display_data"
    }
   ],
   "source": [
    "function dict(f::Formula)\n",
    "  let ! = dict\n",
    "    @match f begin\n",
    "      Times(a,b) => Dict(:head=>:Times, :left=>!a, :right=>!b)\n",
    "      Plus(a,b)  => Dict(:head=>:Plus, :left=>!a, :right=>!b)\n",
    "      Var(a)  => Dict(:head=>:Var, :name=>a)\n",
    "      Val(a)  => Dict(:head=>:Val, :value=>string(a))\n",
    "    end\n",
    "  end\n",
    "end"
   ]
  },
  {
   "attachments": {},
   "cell_type": "markdown",
   "metadata": {},
   "source": [
    "Now JSON3.write works."
   ]
  },
  {
   "cell_type": "code",
   "execution_count": 5,
   "metadata": {},
   "outputs": [
    {
     "name": "stdout",
     "output_type": "stream",
     "text": [
      "{\"left\":{\"left\":{\"name\":\"x\",\"head\":\"Var\"},\"right\":{\"value\":\"3\",\"head\":\"Val\"},\"head\":\"Plus\"},\"right\":{\"left\":{\"name\":\"y\",\"head\":\"Var\"},\"right\":{\"value\":\"5\",\"head\":\"Val\"},\"head\":\"Plus\"},\"head\":\"Times\"}\n"
     ]
    }
   ],
   "source": [
    "s′ =(dict(f) |> JSON3.write)\n",
    "\n",
    "s′|> println"
   ]
  },
  {
   "attachments": {},
   "cell_type": "markdown",
   "metadata": {},
   "source": [
    "But then we have to write our deserializer by hand."
   ]
  },
  {
   "cell_type": "code",
   "execution_count": 6,
   "metadata": {},
   "outputs": [
    {
     "data": {
      "text/plain": [
       "load (generic function with 1 method)"
      ]
     },
     "metadata": {},
     "output_type": "display_data"
    }
   ],
   "source": [
    "function load(::Type{Formula}, d::JSON3.Object)\n",
    "  t = d.head\n",
    "  let ! = x -> load(Formula, x)\n",
    "    @match t begin\n",
    "      \"Times\" => Times(!d.left, !d.right)\n",
    "      \"Plus\" => Plus(!d.left, !d.right)\n",
    "      \"Var\" => Var(Symbol(d.name))\n",
    "      \"Val\" => Val(parse(Int, d.value))\n",
    "      _ => error(\"Got a $(typeof(d)), $t, $d)\")\n",
    "    end\n",
    "  end\n",
    "end"
   ]
  },
  {
   "attachments": {},
   "cell_type": "markdown",
   "metadata": {},
   "source": [
    "this works, but was manual."
   ]
  },
  {
   "cell_type": "code",
   "execution_count": 7,
   "metadata": {},
   "outputs": [
    {
     "data": {
      "text/plain": [
       "Times(Plus(Var(:x), Val(3)), Plus(Var(:y), Val(5)))"
      ]
     },
     "metadata": {},
     "output_type": "display_data"
    }
   ],
   "source": [
    "d = JSON3.read(s′)\n",
    "load(Formula, d)"
   ]
  },
  {
   "attachments": {},
   "cell_type": "markdown",
   "metadata": {},
   "source": [
    "StructTypes provides a traits-based interface to avoid that manual construction"
   ]
  },
  {
   "cell_type": "code",
   "execution_count": 8,
   "metadata": {},
   "outputs": [],
   "source": [
    "using StructTypes"
   ]
  },
  {
   "attachments": {},
   "cell_type": "markdown",
   "metadata": {},
   "source": [
    "this code is tweaked from the AbstractType example in the StructTypes docs."
   ]
  },
  {
   "cell_type": "code",
   "execution_count": 9,
   "metadata": {},
   "outputs": [],
   "source": [
    "StructTypes.StructType(::Type{Formula}) = StructTypes.AbstractType()\n",
    "StructTypes.subtypekey(::Type{Formula}) = :_type\n",
    "StructTypes.subtypes(::Type{Formula}) = (Plus=Plus, Times=Times, Var=Var, Val=Val)"
   ]
  },
  {
   "attachments": {},
   "cell_type": "markdown",
   "metadata": {},
   "source": [
    "Sadly, that doesn't make JSON3.write \"just work\". This seems like a bug in StructTypes or JSON3."
   ]
  },
  {
   "cell_type": "code",
   "execution_count": 10,
   "metadata": {},
   "outputs": [
    {
     "name": "stdout",
     "output_type": "stream",
     "text": [
      "{\"a\":{\"a\":{\"s\":\"x\"},\"b\":{\"x\":3}},\"b\":{\"a\":{\"s\":\"y\"},\"b\":{\"x\":5}}}\n"
     ]
    }
   ],
   "source": [
    "StructTypes.constructfrom(AbstractDict, f)\n",
    "JSON3.write(f) |> println"
   ]
  },
  {
   "attachments": {},
   "cell_type": "markdown",
   "metadata": {},
   "source": [
    "It did make JSON3.read \"just work\" as long as we get the serializer to put the type fields in the output."
   ]
  },
  {
   "cell_type": "code",
   "execution_count": 11,
   "metadata": {},
   "outputs": [
    {
     "data": {
      "text/plain": [
       "Plus(Val(3.0), Var(:x))"
      ]
     },
     "metadata": {},
     "output_type": "display_data"
    }
   ],
   "source": [
    "JSON3.read(\"\"\"\n",
    "  {\"_type\":\"Plus\",\n",
    "    \"a\": {\"x\":3, \"_type\":\"Val\"},\n",
    "    \"b\": {\"s\":\"x\", \"_type\":\"Var\"}\n",
    "  }\n",
    "\"\"\", Formula)"
   ]
  },
  {
   "attachments": {},
   "cell_type": "markdown",
   "metadata": {},
   "source": [
    "we are going to convert our structs to Dict before we call JSON3.write and\n",
    "add the type information in a generic construction. This uses some reflection\n",
    "to ask the julia type for its fieldnames and then use those as the keys in the Dict.\n",
    "we use splatting, so don't make a struct with more than 32 fields if you want to go fast."
   ]
  },
  {
   "cell_type": "code",
   "execution_count": 12,
   "metadata": {},
   "outputs": [],
   "source": [
    "import Base: Dict"
   ]
  },
  {
   "attachments": {},
   "cell_type": "markdown",
   "metadata": {},
   "source": [
    "we use this _dict function to avoid an \"I'm the captain now\" level of type piracy."
   ]
  },
  {
   "cell_type": "code",
   "execution_count": 13,
   "metadata": {},
   "outputs": [
    {
     "data": {
      "text/plain": [
       "_dict (generic function with 2 methods)"
      ]
     },
     "metadata": {},
     "output_type": "display_data"
    }
   ],
   "source": [
    "_dict(x) = x\n",
    "function _dict(x::T) where {T<:Formula}\n",
    "  Dict(:_type => T, [k=>_dict(getfield(x, k)) for k in fieldnames(T)]...)\n",
    "end"
   ]
  },
  {
   "attachments": {},
   "cell_type": "markdown",
   "metadata": {},
   "source": [
    "we only overload the Dict function for our type Formula, so this is not piracy."
   ]
  },
  {
   "cell_type": "code",
   "execution_count": 14,
   "metadata": {},
   "outputs": [
    {
     "data": {
      "text/plain": [
       "Dict"
      ]
     },
     "metadata": {},
     "output_type": "display_data"
    }
   ],
   "source": [
    "Dict(x::Formula) = _dict(x)"
   ]
  },
  {
   "attachments": {},
   "cell_type": "markdown",
   "metadata": {},
   "source": [
    "Now JSON3.write(Dict(f)) puts the type information in our reserved field."
   ]
  },
  {
   "cell_type": "code",
   "execution_count": 15,
   "metadata": {},
   "outputs": [
    {
     "name": "stdout",
     "output_type": "stream",
     "text": [
      "{\"a\":{\"a\":{\"s\":\"x\",\"_type\":\"Var\"},\"b\":{\"_type\":\"Val\",\"x\":3},\"_type\":\"Plus\"},\"b\":{\"a\":{\"s\":\"y\",\"_type\":\"Var\"},\"b\":{\"_type\":\"Val\",\"x\":5},\"_type\":\"Plus\"},\"_type\":\"Times\"}\n"
     ]
    }
   ],
   "source": [
    "Dict(f)\n",
    "JSON3.write(Dict(f)) |> println"
   ]
  },
  {
   "attachments": {},
   "cell_type": "markdown",
   "metadata": {},
   "source": [
    "JSON3.read has the information it needs to identify the types."
   ]
  },
  {
   "cell_type": "code",
   "execution_count": 16,
   "metadata": {},
   "outputs": [
    {
     "data": {
      "text/plain": [
       "Times(Plus(Var(:x), Val(3.0)), Plus(Var(:y), Val(5.0)))"
      ]
     },
     "metadata": {},
     "output_type": "display_data"
    }
   ],
   "source": [
    "JSON3.read(JSON3.write(Dict(f)), Formula)"
   ]
  },
  {
   "attachments": {},
   "cell_type": "markdown",
   "metadata": {},
   "source": [
    "---\n",
    "\n",
    "*This notebook was generated using [Literate.jl](https://github.com/fredrikekre/Literate.jl).*"
   ]
  }
 ],
 "metadata": {
  "kernelspec": {
   "display_name": "Julia 1.9.0",
   "language": "julia",
   "name": "julia-1.9"
  },
  "language_info": {
   "file_extension": ".jl",
   "mimetype": "application/julia",
   "name": "julia",
   "version": "1.9.0"
  }
 },
 "nbformat": 4,
 "nbformat_minor": 3
}
