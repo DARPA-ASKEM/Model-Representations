{
 "cells": [
  {
   "outputs": [],
   "cell_type": "code",
   "source": [
    "using MLStyle\n",
    "using JSON3"
   ],
   "metadata": {},
   "execution_count": null
  },
  {
   "cell_type": "markdown",
   "source": [
    "Our Formula type is a recursive ADT definition the terminal types are Values and Variables,\n",
    "The mathematical operator goes in the type of the struct. This is unlike Julia Expr types,\n",
    "where the operator is a symbol in the first argument position of the expression tree."
   ],
   "metadata": {}
  },
  {
   "outputs": [],
   "cell_type": "code",
   "source": [
    "@data Formula begin\n",
    "  Val(x::Number)\n",
    "  Var(s::Symbol)\n",
    "  Plus(a::Formula, b::Formula)\n",
    "  Times(a::Formula, b::Formula)\n",
    "end\n",
    "\n",
    "f = Times(Plus(Var(:x), Val(3)), Plus(Var(:y), Val(5)))"
   ],
   "metadata": {},
   "execution_count": null
  },
  {
   "cell_type": "markdown",
   "source": [
    "Note: there is no type information in the output,\n",
    "therefore we won't be able to read it back in"
   ],
   "metadata": {}
  },
  {
   "outputs": [],
   "cell_type": "code",
   "source": [
    "s = JSON3.write(f)\n",
    "println(s)"
   ],
   "metadata": {},
   "execution_count": null
  },
  {
   "cell_type": "markdown",
   "source": [
    "we could convert the formula to a dict with structural recursion\n",
    "and manually add in the type information on every step of the recursion"
   ],
   "metadata": {}
  },
  {
   "outputs": [],
   "cell_type": "code",
   "source": [
    "function dict(f::Formula)\n",
    "  let ! = dict\n",
    "    @match f begin\n",
    "      Times(a,b) => Dict(:head=>:Times, :left=>!a, :right=>!b)\n",
    "      Plus(a,b)  => Dict(:head=>:Plus, :left=>!a, :right=>!b)\n",
    "      Var(a)  => Dict(:head=>:Var, :name=>a)\n",
    "      Val(a)  => Dict(:head=>:Val, :value=>string(a))\n",
    "    end\n",
    "  end\n",
    "end"
   ],
   "metadata": {},
   "execution_count": null
  },
  {
   "cell_type": "markdown",
   "source": [
    "Now JSON3.write works."
   ],
   "metadata": {}
  },
  {
   "outputs": [],
   "cell_type": "code",
   "source": [
    "s′ =(dict(f) |> JSON3.write)\n",
    "\n",
    "s′|> println"
   ],
   "metadata": {},
   "execution_count": null
  },
  {
   "cell_type": "markdown",
   "source": [
    "But then we have to write our deserializer by hand."
   ],
   "metadata": {}
  },
  {
   "outputs": [],
   "cell_type": "code",
   "source": [
    "function load(::Type{Formula}, d::JSON3.Object)\n",
    "  t = d.head\n",
    "  let ! = x -> load(Formula, x)\n",
    "    @match t begin\n",
    "      \"Times\" => Times(!d.left, !d.right)\n",
    "      \"Plus\" => Plus(!d.left, !d.right)\n",
    "      \"Var\" => Var(Symbol(d.name))\n",
    "      \"Val\" => Val(parse(Int, d.value))\n",
    "      _ => error(\"Got a $(typeof(d)), $t, $d)\")\n",
    "    end\n",
    "  end\n",
    "end"
   ],
   "metadata": {},
   "execution_count": null
  },
  {
   "cell_type": "markdown",
   "source": [
    "this works, but was manual."
   ],
   "metadata": {}
  },
  {
   "outputs": [],
   "cell_type": "code",
   "source": [
    "d = JSON3.read(s′)\n",
    "load(Formula, d)"
   ],
   "metadata": {},
   "execution_count": null
  },
  {
   "cell_type": "markdown",
   "source": [
    "StructTypes provides a traits-based interface to avoid that manual construction"
   ],
   "metadata": {}
  },
  {
   "outputs": [],
   "cell_type": "code",
   "source": [
    "using StructTypes"
   ],
   "metadata": {},
   "execution_count": null
  },
  {
   "cell_type": "markdown",
   "source": [
    "this code is tweaked from the AbstractType example in the StructTypes docs."
   ],
   "metadata": {}
  },
  {
   "outputs": [],
   "cell_type": "code",
   "source": [
    "StructTypes.StructType(::Type{Formula}) = StructTypes.AbstractType()\n",
    "StructTypes.subtypekey(::Type{Formula}) = :_type\n",
    "StructTypes.subtypes(::Type{Formula}) = (Plus=Plus, Times=Times, Var=Var, Val=Val)"
   ],
   "metadata": {},
   "execution_count": null
  },
  {
   "cell_type": "markdown",
   "source": [
    "Sadly, that doesn't make JSON3.write \"just work\". This seems like a bug in StructTypes or JSON3."
   ],
   "metadata": {}
  },
  {
   "outputs": [],
   "cell_type": "code",
   "source": [
    "StructTypes.constructfrom(AbstractDict, f)\n",
    "JSON3.write(f) |> println"
   ],
   "metadata": {},
   "execution_count": null
  },
  {
   "cell_type": "markdown",
   "source": [
    "It did make JSON3.read \"just work\" as long as we get the serializer to put the type fields in the output."
   ],
   "metadata": {}
  },
  {
   "outputs": [],
   "cell_type": "code",
   "source": [
    "JSON3.read(\"\"\"\n",
    "  {\"_type\":\"Plus\",\n",
    "    \"a\": {\"x\":3, \"_type\":\"Val\"},\n",
    "    \"b\": {\"s\":\"x\", \"_type\":\"Var\"}\n",
    "  }\n",
    "\"\"\", Formula)"
   ],
   "metadata": {},
   "execution_count": null
  },
  {
   "cell_type": "markdown",
   "source": [
    "we are going to convert our structs to Dict before we call JSON3.write and\n",
    "add the type information in a generic construction. This uses some reflection\n",
    "to ask the julia type for its fieldnames and then use those as the keys in the Dict.\n",
    "we use splatting, so don't make a struct with more than 32 fields if you want to go fast."
   ],
   "metadata": {}
  },
  {
   "outputs": [],
   "cell_type": "code",
   "source": [
    "import Base: Dict"
   ],
   "metadata": {},
   "execution_count": null
  },
  {
   "cell_type": "markdown",
   "source": [
    "we use this _dict function to avoid an \"I'm the captain now\" level of type piracy."
   ],
   "metadata": {}
  },
  {
   "outputs": [],
   "cell_type": "code",
   "source": [
    "_dict(x) = x\n",
    "function _dict(x::T) where {T<:Formula}\n",
    "  Dict(:_type => T, [k=>_dict(getfield(x, k)) for k in fieldnames(T)]...)\n",
    "end"
   ],
   "metadata": {},
   "execution_count": null
  },
  {
   "cell_type": "markdown",
   "source": [
    "we only overload the Dict function for our type Formula, so this is not piracy."
   ],
   "metadata": {}
  },
  {
   "outputs": [],
   "cell_type": "code",
   "source": [
    "Dict(x::Formula) = _dict(x)"
   ],
   "metadata": {},
   "execution_count": null
  },
  {
   "cell_type": "markdown",
   "source": [
    "Now JSON3.write(Dict(f)) puts the type information in our reserved field."
   ],
   "metadata": {}
  },
  {
   "outputs": [],
   "cell_type": "code",
   "source": [
    "Dict(f)\n",
    "JSON3.write(Dict(f)) |> println"
   ],
   "metadata": {},
   "execution_count": null
  },
  {
   "cell_type": "markdown",
   "source": [
    "JSON3.read has the information it needs to identify the types."
   ],
   "metadata": {}
  },
  {
   "outputs": [],
   "cell_type": "code",
   "source": [
    "JSON3.read(JSON3.write(Dict(f)), Formula)"
   ],
   "metadata": {},
   "execution_count": null
  },
  {
   "cell_type": "markdown",
   "source": [
    "---\n",
    "\n",
    "*This notebook was generated using [Literate.jl](https://github.com/fredrikekre/Literate.jl).*"
   ],
   "metadata": {}
  }
 ],
 "nbformat_minor": 3,
 "metadata": {
  "language_info": {
   "file_extension": ".jl",
   "mimetype": "application/julia",
   "name": "julia",
   "version": "1.9.0"
  },
  "kernelspec": {
   "name": "julia-1.9",
   "display_name": "Julia 1.9.0",
   "language": "julia"
  }
 },
 "nbformat": 4
}
